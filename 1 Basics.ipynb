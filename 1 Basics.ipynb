{
 "cells": [
  {
   "cell_type": "markdown",
   "metadata": {},
   "source": [
    "## Basics"
   ]
  },
  {
   "cell_type": "code",
   "execution_count": 1,
   "metadata": {},
   "outputs": [],
   "source": [
    "# importing libraries\n",
    "import sys"
   ]
  },
  {
   "cell_type": "code",
   "execution_count": 12,
   "metadata": {},
   "outputs": [],
   "source": [
    "# variables and constants\n",
    "x = 2\n",
    "y = 3\n",
    "z = x+y"
   ]
  },
  {
   "cell_type": "code",
   "execution_count": 2,
   "metadata": {},
   "outputs": [
    {
     "name": "stdout",
     "output_type": "stream",
     "text": [
      "C:\\Anaconda\\lib\\site-packages\\ipykernel_launcher.py\n"
     ]
    }
   ],
   "source": [
    "# command line arguments\n",
    "cli_a = sys.argv\n",
    "print(cli_a[0])"
   ]
  },
  {
   "cell_type": "code",
   "execution_count": 3,
   "metadata": {},
   "outputs": [
    {
     "name": "stdout",
     "output_type": "stream",
     "text": [
      "7\n",
      "2\n",
      "20\n",
      "4.0\n",
      "0\n",
      "32\n"
     ]
    }
   ],
   "source": [
    "# operations\n",
    "print(3+4)\n",
    "print(5-3)\n",
    "print(4*5)\n",
    "print(44/11)\n",
    "print(48 % 12)\n",
    "print(2**5)"
   ]
  },
  {
   "cell_type": "code",
   "execution_count": 4,
   "metadata": {},
   "outputs": [
    {
     "name": "stdout",
     "output_type": "stream",
     "text": [
      " 1,  5.33\n",
      "240, 120\n",
      " 3.561E+02\n"
     ]
    }
   ],
   "source": [
    "# formatting output(int,float,exponential)\n",
    "print(\"%2d, %5.2f\" % (1, 05.333))\n",
    "print(\"%3d, %2d\" % (240, 120))\n",
    "print(\"% 10.3E\" % (356.08977))"
   ]
  },
  {
   "cell_type": "code",
   "execution_count": 5,
   "metadata": {},
   "outputs": [
    {
     "name": "stdout",
     "output_type": "stream",
     "text": [
      "unununium\n"
     ]
    }
   ],
   "source": [
    "# string operators\n",
    "print(3 * 'un' + 'ium')"
   ]
  },
  {
   "cell_type": "markdown",
   "metadata": {},
   "source": [
    "## Data Structures"
   ]
  },
  {
   "cell_type": "code",
   "execution_count": 8,
   "metadata": {},
   "outputs": [
    {
     "name": "stdout",
     "output_type": "stream",
     "text": [
      "[2]\n",
      "exists\n"
     ]
    }
   ],
   "source": [
    "# lists\n",
    "x = [1, 2, 3]\n",
    "x.append(4)\n",
    "x.pop()\n",
    "x.pop(2)\n",
    "print(x[1:])\n",
    "\n",
    "if 2 in x:\n",
    "    print(\"exists\")"
   ]
  },
  {
   "cell_type": "code",
   "execution_count": 9,
   "metadata": {},
   "outputs": [
    {
     "name": "stdout",
     "output_type": "stream",
     "text": [
      "item1\n",
      "dict_keys(['key1', 'key2'])\n",
      "dict_values(['item1', 'item2'])\n",
      "dict_items([('key1', 'item1'), ('key2', 'item2')])\n"
     ]
    }
   ],
   "source": [
    "# dictionary\n",
    "d = {'key1': 'item1', 'key2': 'item2'}\n",
    "print(d['key1'])\n",
    "print(d.keys())\n",
    "print(d.values())\n",
    "print(d.items())"
   ]
  },
  {
   "cell_type": "code",
   "execution_count": 10,
   "metadata": {},
   "outputs": [
    {
     "name": "stdout",
     "output_type": "stream",
     "text": [
      "1\n"
     ]
    }
   ],
   "source": [
    "# tuple\n",
    "t = (1, 2, 3)\n",
    "print(t[0])"
   ]
  },
  {
   "cell_type": "code",
   "execution_count": 11,
   "metadata": {},
   "outputs": [
    {
     "name": "stdout",
     "output_type": "stream",
     "text": [
      "{1, 2, 3, 4}\n"
     ]
    }
   ],
   "source": [
    "# set - no repeated elements\n",
    "s = {1, 2, 3, 1, 2, 3, 1, 3, 4, 2}\n",
    "print(s)"
   ]
  },
  {
   "cell_type": "markdown",
   "metadata": {},
   "source": [
    "## Conditionals and Loops"
   ]
  },
  {
   "cell_type": "code",
   "execution_count": 13,
   "metadata": {},
   "outputs": [
    {
     "name": "stdout",
     "output_type": "stream",
     "text": [
      "Yep\n"
     ]
    }
   ],
   "source": [
    "# conditionals\n",
    "if 1 < 2:\n",
    "    print(\"Yep\")\n",
    "elif 3 > 2:\n",
    "    print(\"Nope\")\n",
    "else:\n",
    "    print(\"Nothing\")"
   ]
  },
  {
   "cell_type": "code",
   "execution_count": 14,
   "metadata": {},
   "outputs": [
    {
     "name": "stdout",
     "output_type": "stream",
     "text": [
      "1 2 3 4 5 0 2 4 6 8 10 12 "
     ]
    }
   ],
   "source": [
    "seq = [1, 2, 3, 4, 5]\n",
    "\n",
    "for i in seq:\n",
    "    print(i, end=\" \")\n",
    "\n",
    "for i in range(0, 14, 2):\n",
    "    print(i, end=\" \")"
   ]
  },
  {
   "cell_type": "code",
   "execution_count": 15,
   "metadata": {},
   "outputs": [
    {
     "name": "stdout",
     "output_type": "stream",
     "text": [
      "i is 1\n",
      "i is 2\n",
      "i is 3\n",
      "i is 4\n"
     ]
    }
   ],
   "source": [
    "i = 1\n",
    "while i < 5:\n",
    "    print('i is {}'.format(i))\n",
    "    i = i+1"
   ]
  },
  {
   "cell_type": "code",
   "execution_count": 17,
   "metadata": {},
   "outputs": [
    {
     "data": {
      "text/plain": [
       "[1, 4, 9, 16, 25]"
      ]
     },
     "execution_count": 17,
     "metadata": {},
     "output_type": "execute_result"
    }
   ],
   "source": [
    "# list comprehension\n",
    "x = [i**2 for i in seq]\n",
    "x"
   ]
  },
  {
   "cell_type": "markdown",
   "metadata": {},
   "source": [
    "## Functions and Lambdas"
   ]
  },
  {
   "cell_type": "code",
   "execution_count": 18,
   "metadata": {},
   "outputs": [
    {
     "name": "stdout",
     "output_type": "stream",
     "text": [
      "9\n",
      "9\n"
     ]
    }
   ],
   "source": [
    "# functions\n",
    "def my_func(x, y, z=5):\n",
    "    return x+y+z\n",
    "\n",
    "\n",
    "print(my_func(3, 4, 2))\n",
    "print(my_func(1, 3))"
   ]
  },
  {
   "cell_type": "code",
   "execution_count": 30,
   "metadata": {},
   "outputs": [
    {
     "name": "stdout",
     "output_type": "stream",
     "text": [
      "7\n"
     ]
    }
   ],
   "source": [
    "# lambda function \n",
    "z=lambda x,y: x*2+y\n",
    "print(z(2,3))\n",
    "\n",
    "z=lambda x:x**2"
   ]
  },
  {
   "cell_type": "code",
   "execution_count": 31,
   "metadata": {},
   "outputs": [
    {
     "name": "stdout",
     "output_type": "stream",
     "text": [
      "[1, 4, 9, 16, 25]\n",
      "[2, 4, 6, 8, 10]\n",
      "[2, 4]\n"
     ]
    }
   ],
   "source": [
    "# map and filter function\n",
    "\n",
    "seq = [1, 2, 3, 4, 5]\n",
    "print(list(map(z, seq)))\n",
    "print(list(map(lambda x: x*2, seq)))\n",
    "print(list(filter(lambda x: x % 2 == 0, seq)))"
   ]
  },
  {
   "cell_type": "code",
   "execution_count": 36,
   "metadata": {},
   "outputs": [
    {
     "name": "stdout",
     "output_type": "stream",
     "text": [
      "hello example string\n",
      "HELLO EXAMPLE STRING\n"
     ]
    },
    {
     "data": {
      "text/plain": [
       "['Hello', 'Example', 'String']"
      ]
     },
     "execution_count": 36,
     "metadata": {},
     "output_type": "execute_result"
    }
   ],
   "source": [
    "# String methods\n",
    "st = \"Hello Example String\"\n",
    "print(st.lower())\n",
    "print(st.upper())\n",
    "arr = st.split(\" \")\n",
    "arr"
   ]
  },
  {
   "cell_type": "markdown",
   "metadata": {},
   "source": [
    "## Classes and Objects"
   ]
  },
  {
   "cell_type": "code",
   "execution_count": 32,
   "metadata": {},
   "outputs": [],
   "source": [
    "# classes and encapsulation\n",
    "class Parrot:\n",
    "    # attributes\n",
    "    species = \"bird\"\n",
    "\n",
    "    # constructor\n",
    "    def __init__(self, name, age):\n",
    "        self.name = name\n",
    "        self.age = age\n",
    "        # variables with underscore as a prefix\n",
    "        self._actualName = \"Psittaciformes\"\n",
    "\n",
    "    # member functions\n",
    "    def sing(self, song):\n",
    "        return \"{} sings {}\".format(self.name, song)\n",
    "\n",
    "    def dance(self):\n",
    "        return \"{} is now dancing\".format(self.name)\n",
    "\n",
    "    def setter(self, another):\n",
    "        self._actualName = another"
   ]
  },
  {
   "cell_type": "code",
   "execution_count": 33,
   "metadata": {},
   "outputs": [],
   "source": [
    "# objects\n",
    "blu = Parrot(\"Blu\", 12)\n",
    "wes = Parrot(\"Wes\", 15)"
   ]
  },
  {
   "cell_type": "code",
   "execution_count": 34,
   "metadata": {},
   "outputs": [
    {
     "name": "stdout",
     "output_type": "stream",
     "text": [
      "bird\n",
      "Blu\n",
      "12\n"
     ]
    }
   ],
   "source": [
    "# access static attributes or class attributes\n",
    "print(blu.__class__.species)\n",
    "\n",
    "# access instance or object attributes\n",
    "print(blu.name)\n",
    "print(blu.age)"
   ]
  },
  {
   "cell_type": "code",
   "execution_count": 35,
   "metadata": {},
   "outputs": [
    {
     "name": "stdout",
     "output_type": "stream",
     "text": [
      "Blu sings happy\n",
      "Blu is now dancing\n",
      "something\n"
     ]
    }
   ],
   "source": [
    "print(blu.sing(\"happy\"))\n",
    "print(blu.dance())\n",
    "\n",
    "blu._actualName = \"something else\"\n",
    "blu.setter(\"something\")\n",
    "print(blu._actualName)"
   ]
  }
 ],
 "metadata": {
  "kernelspec": {
   "display_name": "Python 3",
   "language": "python",
   "name": "python3"
  },
  "language_info": {
   "codemirror_mode": {
    "name": "ipython",
    "version": 3
   },
   "file_extension": ".py",
   "mimetype": "text/x-python",
   "name": "python",
   "nbconvert_exporter": "python",
   "pygments_lexer": "ipython3",
   "version": "3.7.4"
  }
 },
 "nbformat": 4,
 "nbformat_minor": 2
}
